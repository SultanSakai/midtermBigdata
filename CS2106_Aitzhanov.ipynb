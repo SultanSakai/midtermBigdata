{
 "cells": [
  {
   "cell_type": "markdown",
   "id": "4b651f81",
   "metadata": {},
   "source": [
    "# Big Data in Law Enforcement"
   ]
  },
  {
   "cell_type": "markdown",
   "id": "a8c196eb",
   "metadata": {},
   "source": [
    "## Introduction\n",
    "\n",
    "In today's technology-centric society, two pivotal areas are Big Data and Cyber Security.\n",
    "\n",
    "Big Data encompasses the immense quantities of structured and unstructured data produced by both businesses and individuals. The process of dissecting and gleaning valuable insights from this data can enable data-informed decision-making, enhance operational procedures, and foster inventive solutions.\n"
   ]
  },
  {
   "cell_type": "markdown",
   "id": "8a1bebfd",
   "metadata": {},
   "source": []
  },
  {
   "cell_type": "markdown",
   "id": "f66526c6",
   "metadata": {},
   "source": [
    "*Some of the popular languages that Data Scientists use are:*\n",
    "\n",
    "1. Python: Python is one of the most widely used programming languages in the field of data science. It offers a vast ecosystem of libraries and tools, such as NumPy, Pandas, and scikit-learn, making it ideal for data analysis, machine learning, and data visualization.\n",
    "\n",
    "2. SQL (Structured Query Language): SQL is essential for managing and querying relational databases, which are commonly used in data science. Data scientists often use SQL to extract and manipulate data from databases to perform analytics."
   ]
  },
  {
   "cell_type": "markdown",
   "id": "41e0ae29",
   "metadata": {},
   "source": [
    "*Some of the commonly used libraries by Data Scientists include:*\n",
    "\n",
    "- NumPy: A fundamental library for numerical computing in Python, NumPy provides support for large, multi-dimensional arrays and matrices, along with a collection of mathematical functions to operate on these arrays.\n",
    "\n",
    "- Pandas: Pandas is a powerful data manipulation library that offers easy-to-use data structures like DataFrames and Series, making data analysis and manipulation in Python more accessible.\n",
    "\n",
    "- Matplotlib: Matplotlib is a widely-used Python library for creating static, animated, or interactive visualizations in 2D and 3D. It's essential for data visualization and presentation.\n",
    "\n",
    "\n"
   ]
  },
  {
   "cell_type": "markdown",
   "id": "0196ef9e",
   "metadata": {},
   "source": [
    "| Data Science Tools      |\n",
    "|-------------------------|\n",
    "| 1. Jupyter Notebook     |\n",
    "| 2. Apache Spark         |\n",
    "| 3. RStudio              |\n"
   ]
  },
  {
   "cell_type": "markdown",
   "id": "49d4793d",
   "metadata": {},
   "source": [
    "### Below are a few examples of evaluating arithmetic expressions in Python.\n",
    "\n",
    "2+2 = 4\n"
   ]
  },
  {
   "cell_type": "code",
   "execution_count": 5,
   "id": "e5e39809",
   "metadata": {},
   "outputs": [
    {
     "data": {
      "text/plain": [
       "33"
      ]
     },
     "execution_count": 5,
     "metadata": {},
     "output_type": "execute_result"
    }
   ],
   "source": [
    "(4*6)+9"
   ]
  },
  {
   "cell_type": "code",
   "execution_count": 8,
   "id": "26411c48",
   "metadata": {},
   "outputs": [
    {
     "name": "stdout",
     "output_type": "stream",
     "text": [
      "300 minutes =  5.0 hours.\n"
     ]
    }
   ],
   "source": [
    "minutes = 300\n",
    "hours = minutes / 60\n",
    "print(\"300 minutes = \", hours, \"hours.\")"
   ]
  },
  {
   "cell_type": "markdown",
   "id": "d9e5d5db",
   "metadata": {},
   "source": [
    "## Author\n",
    "\n",
    "Aitzhanov Sultan CS - 2106\n"
   ]
  },
  {
   "cell_type": "code",
   "execution_count": null,
   "id": "6b004088",
   "metadata": {},
   "outputs": [],
   "source": []
  }
 ],
 "metadata": {
  "kernelspec": {
   "display_name": "Python 3 (ipykernel)",
   "language": "python",
   "name": "python3"
  },
  "language_info": {
   "codemirror_mode": {
    "name": "ipython",
    "version": 3
   },
   "file_extension": ".py",
   "mimetype": "text/x-python",
   "name": "python",
   "nbconvert_exporter": "python",
   "pygments_lexer": "ipython3",
   "version": "3.9.13"
  }
 },
 "nbformat": 4,
 "nbformat_minor": 5
}
